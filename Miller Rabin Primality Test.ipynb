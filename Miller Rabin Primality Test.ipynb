{
  "nbformat": 4,
  "nbformat_minor": 0,
  "metadata": {
    "colab": {
      "name": "MillerRabinTest.ipynb",
      "provenance": [],
      "collapsed_sections": []
    },
    "kernelspec": {
      "name": "python3",
      "display_name": "Python 3"
    },
    "language_info": {
      "name": "python"
    }
  },
  "cells": [
    {
      "cell_type": "code",
      "source": [
        "from math import log\n",
        "import time\n",
        "import random\n",
        "import matplotlib.pyplot as plt"
      ],
      "metadata": {
        "id": "AI9t9LGriBuJ"
      },
      "execution_count": null,
      "outputs": []
    },
    {
      "cell_type": "code",
      "source": [
        "def power(a,n): \n",
        "  \"\"\"\n",
        "  This function calculates a**n recursively\n",
        "  by recursively halving n using binary exponentiation. ( O(logn) )\n",
        "  \"\"\"\n",
        "  if n == 1:\n",
        "    return a\n",
        "  return power(a,n//2)*power(a,n - n//2)"
      ],
      "metadata": {
        "id": "UfXamtCL_jr8"
      },
      "execution_count": null,
      "outputs": []
    },
    {
      "cell_type": "code",
      "source": [
        "def naive_power(a,n):\n",
        "  if n == 1:\n",
        "    return a\n",
        "  return a*naive_power(a,n-1)"
      ],
      "metadata": {
        "id": "-T17Q5PC-J6W"
      },
      "execution_count": null,
      "outputs": []
    },
    {
      "cell_type": "code",
      "source": [
        "a = time.time()\n",
        "# naive_power(2,1000) #max recursion depth acheived for n = 1000. \n",
        "b = time.time()\n",
        "d = power(2,10**7) #calculated 2 power 10 million in 3 seconds - 6 million digit number!!!\n",
        "c = time.time()\n",
        "\n",
        "print(f\"naive_power() took {b - a}s\\n power() took {c-b}s\")\n",
        "log(d)"
      ],
      "metadata": {
        "colab": {
          "base_uri": "https://localhost:8080/"
        },
        "id": "GxA4X6Ia-b2D",
        "outputId": "03e7e572-7a87-40f4-8fd8-161381332846"
      },
      "execution_count": null,
      "outputs": [
        {
          "output_type": "stream",
          "name": "stdout",
          "text": [
            "naive_power() took 1.9550323486328125e-05s\n",
            " power() took 3.609816312789917s\n"
          ]
        },
        {
          "output_type": "execute_result",
          "data": {
            "text/plain": [
              "6931471.805599453"
            ]
          },
          "metadata": {},
          "execution_count": 4
        }
      ]
    },
    {
      "cell_type": "code",
      "source": [
        "def power_mod(a,n, modval):\n",
        "  \"\"\"\n",
        "  Instead of calculating a**n, and then taking modulus, \n",
        "  this function, takes modulus at every multiplication. \n",
        "  \"\"\"\n",
        "  if n == 1:\n",
        "    return a \n",
        "  return ((power_mod(a,n//2,modval)%(modval))*(power_mod(a,n-n//2,modval)%(modval)) )% modval"
      ],
      "metadata": {
        "id": "GfiwTfCuiRqF"
      },
      "execution_count": null,
      "outputs": []
    },
    {
      "cell_type": "code",
      "source": [
        "def rabin_miller_test(n): #assume n > 100\n",
        "  \"\"\"\n",
        "  This fxn returns True if n is prime, else False.\n",
        "  \"\"\"\n",
        "  if n == 1:\n",
        "    return False\n",
        "  if n == 2:\n",
        "    return True\n",
        "  L = []\n",
        "  if n < 100:\n",
        "    limit = n\n",
        "  else: \n",
        "    limit = 100\n",
        "  for x in range(limit):\n",
        "    a = random.randint(2,n-1) # choosing random a \n",
        "    t = power_mod(a,n-1,n) # t = a^(n-1) % n\n",
        "    L.append(t) # List of all values of t\n",
        "    if t != 1: \n",
        "      return False # return False, if there is even one value of t != 1\n",
        "    return True # else, if all 100 values are 1, return True"
      ],
      "metadata": {
        "id": "m5KtoWBMnft5"
      },
      "execution_count": null,
      "outputs": []
    },
    {
      "cell_type": "code",
      "source": [
        "a = time.time()\n",
        "print(rabin_miller_test(9999991)) # 7 digit prime num\n",
        "b = time.time()\n",
        "print(b-a)"
      ],
      "metadata": {
        "colab": {
          "base_uri": "https://localhost:8080/"
        },
        "id": "pyqpygvHnhj8",
        "outputId": "4996decf-927f-4a73-ef0e-62a742a65052"
      },
      "execution_count": null,
      "outputs": [
        {
          "output_type": "stream",
          "name": "stdout",
          "text": [
            "True\n",
            "5.556613922119141\n"
          ]
        }
      ]
    },
    {
      "cell_type": "code",
      "source": [
        "a = time.time()\n",
        "print(rabin_miller_test(28222149)) # 8 digit composite num\n",
        "b = time.time()\n",
        "print(b-a)"
      ],
      "metadata": {
        "id": "PrRbgu11krhE",
        "colab": {
          "base_uri": "https://localhost:8080/"
        },
        "outputId": "c6466fb7-ddb8-44e5-f23d-f08becefa3bc"
      },
      "execution_count": null,
      "outputs": [
        {
          "output_type": "stream",
          "name": "stdout",
          "text": [
            "False\n",
            "486.62593483924866\n"
          ]
        }
      ]
    },
    {
      "cell_type": "code",
      "source": [
        "a = time.time()\n",
        "print(rabin_miller_test(42760088)) # 8 digit composite num\n",
        "b = time.time()\n",
        "print(b-a)"
      ],
      "metadata": {
        "colab": {
          "base_uri": "https://localhost:8080/"
        },
        "id": "1_HNmjgYJMjA",
        "outputId": "91c2e8dd-ce7f-4d3c-e7be-fe5a5683ff22"
      },
      "execution_count": null,
      "outputs": [
        {
          "output_type": "stream",
          "name": "stdout",
          "text": [
            "False\n",
            "23.49644947052002\n"
          ]
        }
      ]
    },
    {
      "cell_type": "code",
      "source": [
        "a = time.time()\n",
        "print(rabin_miller_test(99999989)) # 8 digit prime num\n",
        "b = time.time()\n",
        "print(b-a)"
      ],
      "metadata": {
        "colab": {
          "base_uri": "https://localhost:8080/"
        },
        "id": "ue-0h3wgK6lh",
        "outputId": "7beb70bc-d507-4c80-9301-536d01409980"
      },
      "execution_count": null,
      "outputs": [
        {
          "output_type": "stream",
          "name": "stdout",
          "text": [
            "True\n",
            "55.02992868423462\n"
          ]
        }
      ]
    },
    {
      "cell_type": "code",
      "source": [
        "a = time.time()\n",
        "print(rabin_miller_test(123484321)) # 9 digit prime num\n",
        "b = time.time()\n",
        "print(b-a)"
      ],
      "metadata": {
        "colab": {
          "base_uri": "https://localhost:8080/"
        },
        "id": "R8I2-EjPMECT",
        "outputId": "1032a7e8-d6b0-4ce8-b1a8-7876714aa9c7"
      },
      "execution_count": null,
      "outputs": [
        {
          "output_type": "stream",
          "name": "stdout",
          "text": [
            "True\n",
            "68.40167498588562\n"
          ]
        }
      ]
    },
    {
      "cell_type": "code",
      "source": [
        "a = time.time()\n",
        "print(rabin_miller_test(341565143)) # 9 digit prime num\n",
        "b = time.time()\n",
        "print(b-a)"
      ],
      "metadata": {
        "colab": {
          "base_uri": "https://localhost:8080/"
        },
        "id": "2Tb2hHV2MsuN",
        "outputId": "46e0cab2-a8e8-441f-c2f3-4209b5949de9"
      },
      "execution_count": null,
      "outputs": [
        {
          "output_type": "stream",
          "name": "stdout",
          "text": [
            "True\n",
            "188.86794114112854\n"
          ]
        }
      ]
    },
    {
      "cell_type": "code",
      "source": [
        "def primediffs(n):\n",
        "  \"\"\"\n",
        "  This function calculates difference between consecutive prime numbers.\n",
        "  Output is dictionary, where keys are differces and values are number of prime numbers with that difference\n",
        "  \"\"\"\n",
        "  # will run for all integeres upto n (including n)\n",
        "  d = {}\n",
        "  prev = 2\n",
        "  for x in range(3,n+1):\n",
        "    if rabin_miller_test(x): \n",
        "      curr = x\n",
        "      diff = curr - prev\n",
        "      if diff in d.keys():\n",
        "        d[diff] += 1\n",
        "      else:\n",
        "        d[diff] = 1\n",
        "    prev = curr\n",
        "  return d\n"
      ],
      "metadata": {
        "id": "Y2FYh1I9Ig2D"
      },
      "execution_count": null,
      "outputs": []
    },
    {
      "cell_type": "code",
      "source": [
        "data = primediffs(10000)\n",
        "data"
      ],
      "metadata": {
        "colab": {
          "base_uri": "https://localhost:8080/"
        },
        "id": "XfdUSKr1O-XP",
        "outputId": "fbc39c87-3387-43f1-ab2f-fca07946cb78"
      },
      "execution_count": null,
      "outputs": [
        {
          "output_type": "execute_result",
          "data": {
            "text/plain": [
              "{1: 4,\n",
              " 2: 232,\n",
              " 3: 1,\n",
              " 4: 215,\n",
              " 5: 2,\n",
              " 6: 312,\n",
              " 8: 101,\n",
              " 10: 115,\n",
              " 12: 113,\n",
              " 14: 49,\n",
              " 16: 33,\n",
              " 18: 36,\n",
              " 20: 16,\n",
              " 22: 16,\n",
              " 24: 13,\n",
              " 26: 2,\n",
              " 28: 5,\n",
              " 30: 9,\n",
              " 32: 1,\n",
              " 34: 2,\n",
              " 36: 1}"
            ]
          },
          "metadata": {},
          "execution_count": 54
        }
      ]
    },
    {
      "cell_type": "code",
      "source": [
        "plt.bar(list(data.keys()), data.values(), color='r')\n",
        "plt.show()"
      ],
      "metadata": {
        "colab": {
          "base_uri": "https://localhost:8080/",
          "height": 265
        },
        "id": "EhywYDj1PAxI",
        "outputId": "77fbb5e3-d017-4336-f0d8-16e1c59b4d61"
      },
      "execution_count": null,
      "outputs": [
        {
          "output_type": "display_data",
          "data": {
            "image/png": "[encoded data removed]",
            "text/plain": [
              "<Figure size 432x288 with 1 Axes>"
            ]
          },
          "metadata": {
            "needs_background": "light"
          }
        }
      ]
    },
    {
      "cell_type": "code",
      "source": [
        ""
      ],
      "metadata": {
        "id": "vuuGZVYzQzbp"
      },
      "execution_count": null,
      "outputs": []
    }
  ]
}